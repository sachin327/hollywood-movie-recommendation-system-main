{
 "cells": [
  {
   "cell_type": "markdown",
   "metadata": {
    "id": "acMYLHS_vYBO"
   },
   "source": [
    "# Content-based recommender system for movies"
   ]
  },
  {
   "cell_type": "code",
   "execution_count": 1,
   "metadata": {
    "colab": {
     "base_uri": "https://localhost:8080/"
    },
    "id": "H3LWA6mkvxVY",
    "outputId": "75568a69-c878-45df-ce34-ed6e76822926"
   },
   "outputs": [],
   "source": [
    "#pip install rake_nltk\n"
   ]
  },
  {
   "cell_type": "code",
   "execution_count": 2,
   "metadata": {},
   "outputs": [],
   "source": [
    "#pip install --upgrade pandas\n"
   ]
  },
  {
   "cell_type": "code",
   "execution_count": 3,
   "metadata": {},
   "outputs": [],
   "source": [
    "#pip install sklearn"
   ]
  },
  {
   "cell_type": "code",
   "execution_count": 4,
   "metadata": {
    "id": "tNlSOUSKvYBP"
   },
   "outputs": [],
   "source": [
    "import pandas as pd\n",
    "from rake_nltk import Rake\n",
    "import numpy as np\n",
    "from sklearn.metrics.pairwise import cosine_similarity\n",
    "from sklearn.feature_extraction.text import CountVectorizer\n",
    "\n",
    "#pd.set_option('display.max_columns', 100)\n"
   ]
  },
  {
   "cell_type": "code",
   "execution_count": 5,
   "metadata": {
    "colab": {
     "base_uri": "https://localhost:8080/",
     "height": 195
    },
    "id": "OAmfRWuk4upr",
    "outputId": "8f3a8f82-49cb-4db8-8ad8-de0fdc020298"
   },
   "outputs": [
    {
     "data": {
      "text/html": [
       "<div>\n",
       "<style scoped>\n",
       "    .dataframe tbody tr th:only-of-type {\n",
       "        vertical-align: middle;\n",
       "    }\n",
       "\n",
       "    .dataframe tbody tr th {\n",
       "        vertical-align: top;\n",
       "    }\n",
       "\n",
       "    .dataframe thead th {\n",
       "        text-align: right;\n",
       "    }\n",
       "</style>\n",
       "<table border=\"1\" class=\"dataframe\">\n",
       "  <thead>\n",
       "    <tr style=\"text-align: right;\">\n",
       "      <th></th>\n",
       "      <th>director_name</th>\n",
       "      <th>actor_1_name</th>\n",
       "      <th>actor_2_name</th>\n",
       "      <th>actor_3_name</th>\n",
       "      <th>genres</th>\n",
       "      <th>movie_title</th>\n",
       "      <th>tmdb_ratings</th>\n",
       "    </tr>\n",
       "  </thead>\n",
       "  <tbody>\n",
       "    <tr>\n",
       "      <th>0</th>\n",
       "      <td>Adam Robitel</td>\n",
       "      <td>Lin Shaye</td>\n",
       "      <td>Angus Sampson</td>\n",
       "      <td>Leigh Whannell</td>\n",
       "      <td>Horror Mystery Thriller</td>\n",
       "      <td>insidious: the last key</td>\n",
       "      <td>6.2</td>\n",
       "    </tr>\n",
       "    <tr>\n",
       "      <th>1</th>\n",
       "      <td>Lauren Wolkstein</td>\n",
       "      <td>Alex Pettyfer</td>\n",
       "      <td>James Freedson-Jackson</td>\n",
       "      <td>Emily Althaus</td>\n",
       "      <td>Thriller Drama</td>\n",
       "      <td>the strange ones</td>\n",
       "      <td>5.5</td>\n",
       "    </tr>\n",
       "    <tr>\n",
       "      <th>2</th>\n",
       "      <td>Simon West</td>\n",
       "      <td>Dominic Cooper</td>\n",
       "      <td>Austin Stowell</td>\n",
       "      <td>Gemma Chan</td>\n",
       "      <td>Action Thriller</td>\n",
       "      <td>stratton</td>\n",
       "      <td>4.9</td>\n",
       "    </tr>\n",
       "    <tr>\n",
       "      <th>3</th>\n",
       "      <td>Warwick Thornton</td>\n",
       "      <td>Bryan Brown</td>\n",
       "      <td>Sam Neill</td>\n",
       "      <td>unknown</td>\n",
       "      <td>Drama History Western</td>\n",
       "      <td>sweet country</td>\n",
       "      <td>6.7</td>\n",
       "    </tr>\n",
       "    <tr>\n",
       "      <th>4</th>\n",
       "      <td>Jaume Collet-Serra</td>\n",
       "      <td>Liam Neeson</td>\n",
       "      <td>Vera Farmiga</td>\n",
       "      <td>Patrick Wilson</td>\n",
       "      <td>Action Thriller</td>\n",
       "      <td>the commuter</td>\n",
       "      <td>6.3</td>\n",
       "    </tr>\n",
       "  </tbody>\n",
       "</table>\n",
       "</div>"
      ],
      "text/plain": [
       "        director_name    actor_1_name            actor_2_name    actor_3_name  \\\n",
       "0        Adam Robitel       Lin Shaye           Angus Sampson  Leigh Whannell   \n",
       "1    Lauren Wolkstein   Alex Pettyfer  James Freedson-Jackson   Emily Althaus   \n",
       "2          Simon West  Dominic Cooper          Austin Stowell      Gemma Chan   \n",
       "3    Warwick Thornton     Bryan Brown               Sam Neill         unknown   \n",
       "4  Jaume Collet-Serra     Liam Neeson            Vera Farmiga  Patrick Wilson   \n",
       "\n",
       "                    genres              movie_title  tmdb_ratings  \n",
       "0  Horror Mystery Thriller  insidious: the last key           6.2  \n",
       "1           Thriller Drama         the strange ones           5.5  \n",
       "2          Action Thriller                 stratton           4.9  \n",
       "3    Drama History Western            sweet country           6.7  \n",
       "4          Action Thriller             the commuter           6.3  "
      ]
     },
     "execution_count": 5,
     "metadata": {},
     "output_type": "execute_result"
    }
   ],
   "source": [
    "df = pd.read_csv('final_data(movies 1950-2020).csv')\n",
    "df.head()"
   ]
  },
  {
   "cell_type": "code",
   "execution_count": 6,
   "metadata": {
    "colab": {
     "base_uri": "https://localhost:8080/"
    },
    "id": "oaQcnyAzvYBR",
    "outputId": "fdfc12b4-e444-4cc4-8b6c-f5c43cfa832b"
   },
   "outputs": [
    {
     "data": {
      "text/plain": [
       "(6095, 7)"
      ]
     },
     "execution_count": 6,
     "metadata": {},
     "output_type": "execute_result"
    }
   ],
   "source": [
    "df.shape"
   ]
  },
  {
   "cell_type": "markdown",
   "metadata": {
    "id": "svhF9vlHvYBR"
   },
   "source": [
    "Choosing the features that will be base of my recommendations."
   ]
  },
  {
   "cell_type": "code",
   "execution_count": 7,
   "metadata": {
    "colab": {
     "base_uri": "https://localhost:8080/",
     "height": 195
    },
    "id": "C9zvoLAAvYBS",
    "outputId": "3fef4661-34d2-47e6-d410-5b72bd47f689"
   },
   "outputs": [
    {
     "data": {
      "text/html": [
       "<div>\n",
       "<style scoped>\n",
       "    .dataframe tbody tr th:only-of-type {\n",
       "        vertical-align: middle;\n",
       "    }\n",
       "\n",
       "    .dataframe tbody tr th {\n",
       "        vertical-align: top;\n",
       "    }\n",
       "\n",
       "    .dataframe thead th {\n",
       "        text-align: right;\n",
       "    }\n",
       "</style>\n",
       "<table border=\"1\" class=\"dataframe\">\n",
       "  <thead>\n",
       "    <tr style=\"text-align: right;\">\n",
       "      <th></th>\n",
       "      <th>movie_title</th>\n",
       "      <th>tmdb_ratings</th>\n",
       "      <th>director_name</th>\n",
       "      <th>actor_1_name</th>\n",
       "      <th>actor_2_name</th>\n",
       "      <th>actor_3_name</th>\n",
       "      <th>genres</th>\n",
       "    </tr>\n",
       "  </thead>\n",
       "  <tbody>\n",
       "    <tr>\n",
       "      <th>0</th>\n",
       "      <td>insidious: the last key</td>\n",
       "      <td>6.2</td>\n",
       "      <td>Adam Robitel</td>\n",
       "      <td>Lin Shaye</td>\n",
       "      <td>Angus Sampson</td>\n",
       "      <td>Leigh Whannell</td>\n",
       "      <td>Horror Mystery Thriller</td>\n",
       "    </tr>\n",
       "    <tr>\n",
       "      <th>1</th>\n",
       "      <td>the strange ones</td>\n",
       "      <td>5.5</td>\n",
       "      <td>Lauren Wolkstein</td>\n",
       "      <td>Alex Pettyfer</td>\n",
       "      <td>James Freedson-Jackson</td>\n",
       "      <td>Emily Althaus</td>\n",
       "      <td>Thriller Drama</td>\n",
       "    </tr>\n",
       "    <tr>\n",
       "      <th>2</th>\n",
       "      <td>stratton</td>\n",
       "      <td>4.9</td>\n",
       "      <td>Simon West</td>\n",
       "      <td>Dominic Cooper</td>\n",
       "      <td>Austin Stowell</td>\n",
       "      <td>Gemma Chan</td>\n",
       "      <td>Action Thriller</td>\n",
       "    </tr>\n",
       "    <tr>\n",
       "      <th>3</th>\n",
       "      <td>sweet country</td>\n",
       "      <td>6.7</td>\n",
       "      <td>Warwick Thornton</td>\n",
       "      <td>Bryan Brown</td>\n",
       "      <td>Sam Neill</td>\n",
       "      <td>unknown</td>\n",
       "      <td>Drama History Western</td>\n",
       "    </tr>\n",
       "    <tr>\n",
       "      <th>4</th>\n",
       "      <td>the commuter</td>\n",
       "      <td>6.3</td>\n",
       "      <td>Jaume Collet-Serra</td>\n",
       "      <td>Liam Neeson</td>\n",
       "      <td>Vera Farmiga</td>\n",
       "      <td>Patrick Wilson</td>\n",
       "      <td>Action Thriller</td>\n",
       "    </tr>\n",
       "  </tbody>\n",
       "</table>\n",
       "</div>"
      ],
      "text/plain": [
       "               movie_title  tmdb_ratings       director_name    actor_1_name  \\\n",
       "0  insidious: the last key           6.2        Adam Robitel       Lin Shaye   \n",
       "1         the strange ones           5.5    Lauren Wolkstein   Alex Pettyfer   \n",
       "2                 stratton           4.9          Simon West  Dominic Cooper   \n",
       "3            sweet country           6.7    Warwick Thornton     Bryan Brown   \n",
       "4             the commuter           6.3  Jaume Collet-Serra     Liam Neeson   \n",
       "\n",
       "             actor_2_name    actor_3_name                   genres  \n",
       "0           Angus Sampson  Leigh Whannell  Horror Mystery Thriller  \n",
       "1  James Freedson-Jackson   Emily Althaus           Thriller Drama  \n",
       "2          Austin Stowell      Gemma Chan          Action Thriller  \n",
       "3               Sam Neill         unknown    Drama History Western  \n",
       "4            Vera Farmiga  Patrick Wilson          Action Thriller  "
      ]
     },
     "execution_count": 7,
     "metadata": {},
     "output_type": "execute_result"
    }
   ],
   "source": [
    "df = df[['movie_title','tmdb_ratings','director_name','actor_1_name','actor_2_name','actor_3_name','genres']] \n",
    "df.head()"
   ]
  },
  {
   "cell_type": "code",
   "execution_count": null,
   "metadata": {
    "colab": {
     "base_uri": "https://localhost:8080/"
    },
    "id": "i4cgzGFb-ZUQ",
    "outputId": "62da3b2d-eaa7-420e-dfcf-f0c426158f4f"
   },
   "outputs": [],
   "source": []
  },
  {
   "cell_type": "code",
   "execution_count": 8,
   "metadata": {
    "colab": {
     "base_uri": "https://localhost:8080/",
     "height": 195
    },
    "id": "AQ1BTzq7-3Kk",
    "outputId": "ac7f1149-050c-46f6-bdc2-effd1f35b1b4",
    "scrolled": true
   },
   "outputs": [
    {
     "data": {
      "text/html": [
       "<div>\n",
       "<style scoped>\n",
       "    .dataframe tbody tr th:only-of-type {\n",
       "        vertical-align: middle;\n",
       "    }\n",
       "\n",
       "    .dataframe tbody tr th {\n",
       "        vertical-align: top;\n",
       "    }\n",
       "\n",
       "    .dataframe thead th {\n",
       "        text-align: right;\n",
       "    }\n",
       "</style>\n",
       "<table border=\"1\" class=\"dataframe\">\n",
       "  <thead>\n",
       "    <tr style=\"text-align: right;\">\n",
       "      <th></th>\n",
       "      <th>movie_title</th>\n",
       "      <th>tmdb_ratings</th>\n",
       "      <th>director_name</th>\n",
       "      <th>actor_1_name</th>\n",
       "      <th>actor_2_name</th>\n",
       "      <th>actor_3_name</th>\n",
       "      <th>genres</th>\n",
       "    </tr>\n",
       "  </thead>\n",
       "  <tbody>\n",
       "    <tr>\n",
       "      <th>0</th>\n",
       "      <td>insidious: the last key</td>\n",
       "      <td>6.2</td>\n",
       "      <td>Adam Robitel</td>\n",
       "      <td>Lin Shaye</td>\n",
       "      <td>Angus Sampson</td>\n",
       "      <td>Leigh Whannell</td>\n",
       "      <td>Horror Mystery Thriller</td>\n",
       "    </tr>\n",
       "    <tr>\n",
       "      <th>1</th>\n",
       "      <td>the strange ones</td>\n",
       "      <td>5.5</td>\n",
       "      <td>Lauren Wolkstein</td>\n",
       "      <td>Alex Pettyfer</td>\n",
       "      <td>James Freedson-Jackson</td>\n",
       "      <td>Emily Althaus</td>\n",
       "      <td>Thriller Drama</td>\n",
       "    </tr>\n",
       "    <tr>\n",
       "      <th>2</th>\n",
       "      <td>stratton</td>\n",
       "      <td>4.9</td>\n",
       "      <td>Simon West</td>\n",
       "      <td>Dominic Cooper</td>\n",
       "      <td>Austin Stowell</td>\n",
       "      <td>Gemma Chan</td>\n",
       "      <td>Action Thriller</td>\n",
       "    </tr>\n",
       "    <tr>\n",
       "      <th>3</th>\n",
       "      <td>sweet country</td>\n",
       "      <td>6.7</td>\n",
       "      <td>Warwick Thornton</td>\n",
       "      <td>Bryan Brown</td>\n",
       "      <td>Sam Neill</td>\n",
       "      <td>unknown</td>\n",
       "      <td>Drama History Western</td>\n",
       "    </tr>\n",
       "    <tr>\n",
       "      <th>4</th>\n",
       "      <td>the commuter</td>\n",
       "      <td>6.3</td>\n",
       "      <td>Jaume Collet-Serra</td>\n",
       "      <td>Liam Neeson</td>\n",
       "      <td>Vera Farmiga</td>\n",
       "      <td>Patrick Wilson</td>\n",
       "      <td>Action Thriller</td>\n",
       "    </tr>\n",
       "  </tbody>\n",
       "</table>\n",
       "</div>"
      ],
      "text/plain": [
       "               movie_title  tmdb_ratings       director_name    actor_1_name  \\\n",
       "0  insidious: the last key           6.2        Adam Robitel       Lin Shaye   \n",
       "1         the strange ones           5.5    Lauren Wolkstein   Alex Pettyfer   \n",
       "2                 stratton           4.9          Simon West  Dominic Cooper   \n",
       "3            sweet country           6.7    Warwick Thornton     Bryan Brown   \n",
       "4             the commuter           6.3  Jaume Collet-Serra     Liam Neeson   \n",
       "\n",
       "             actor_2_name    actor_3_name                   genres  \n",
       "0           Angus Sampson  Leigh Whannell  Horror Mystery Thriller  \n",
       "1  James Freedson-Jackson   Emily Althaus           Thriller Drama  \n",
       "2          Austin Stowell      Gemma Chan          Action Thriller  \n",
       "3               Sam Neill         unknown    Drama History Western  \n",
       "4            Vera Farmiga  Patrick Wilson          Action Thriller  "
      ]
     },
     "execution_count": 8,
     "metadata": {},
     "output_type": "execute_result"
    }
   ],
   "source": [
    "df.head()"
   ]
  },
  {
   "cell_type": "code",
   "execution_count": null,
   "metadata": {},
   "outputs": [],
   "source": []
  },
  {
   "cell_type": "code",
   "execution_count": 9,
   "metadata": {},
   "outputs": [
    {
     "data": {
      "text/plain": [
       "movie_title       0\n",
       "tmdb_ratings     97\n",
       "director_name     0\n",
       "actor_1_name      0\n",
       "actor_2_name      0\n",
       "actor_3_name      0\n",
       "genres            3\n",
       "dtype: int64"
      ]
     },
     "execution_count": 9,
     "metadata": {},
     "output_type": "execute_result"
    }
   ],
   "source": [
    "df.isnull().sum()"
   ]
  },
  {
   "cell_type": "code",
   "execution_count": 10,
   "metadata": {},
   "outputs": [],
   "source": [
    "df['genres'] = df['genres'].fillna('unknown')"
   ]
  },
  {
   "cell_type": "code",
   "execution_count": 11,
   "metadata": {},
   "outputs": [
    {
     "data": {
      "text/plain": [
       "movie_title       0\n",
       "tmdb_ratings     97\n",
       "director_name     0\n",
       "actor_1_name      0\n",
       "actor_2_name      0\n",
       "actor_3_name      0\n",
       "genres            0\n",
       "dtype: int64"
      ]
     },
     "execution_count": 11,
     "metadata": {},
     "output_type": "execute_result"
    }
   ],
   "source": [
    "df.isnull().sum()"
   ]
  },
  {
   "cell_type": "code",
   "execution_count": 12,
   "metadata": {},
   "outputs": [],
   "source": [
    "df['comb'] = df['actor_1_name'] + ' ' + df['actor_2_name'] + ' '+ df['actor_3_name'] + ' '+ df['director_name'] +' ' + df['genres']"
   ]
  },
  {
   "cell_type": "code",
   "execution_count": 13,
   "metadata": {},
   "outputs": [
    {
     "data": {
      "text/plain": [
       "1"
      ]
     },
     "execution_count": 13,
     "metadata": {},
     "output_type": "execute_result"
    }
   ],
   "source": [
    "(df['movie_title']=='tenet').sum()"
   ]
  },
  {
   "cell_type": "code",
   "execution_count": 14,
   "metadata": {},
   "outputs": [
    {
     "data": {
      "text/plain": [
       "1"
      ]
     },
     "execution_count": 14,
     "metadata": {},
     "output_type": "execute_result"
    }
   ],
   "source": [
    "(df['movie_title'] == 'tenet').sum()"
   ]
  },
  {
   "cell_type": "markdown",
   "metadata": {
    "id": "35ZddxVzvYBS"
   },
   "source": [
    "Extracting the key words from the plot description."
   ]
  },
  {
   "cell_type": "code",
   "execution_count": 15,
   "metadata": {
    "colab": {
     "base_uri": "https://localhost:8080/",
     "height": 195
    },
    "id": "1sPAwE0U3eB9",
    "outputId": "31bcac22-b2ac-46ca-c69e-128c65edbd8d"
   },
   "outputs": [
    {
     "data": {
      "text/html": [
       "<div>\n",
       "<style scoped>\n",
       "    .dataframe tbody tr th:only-of-type {\n",
       "        vertical-align: middle;\n",
       "    }\n",
       "\n",
       "    .dataframe tbody tr th {\n",
       "        vertical-align: top;\n",
       "    }\n",
       "\n",
       "    .dataframe thead th {\n",
       "        text-align: right;\n",
       "    }\n",
       "</style>\n",
       "<table border=\"1\" class=\"dataframe\">\n",
       "  <thead>\n",
       "    <tr style=\"text-align: right;\">\n",
       "      <th></th>\n",
       "      <th>movie_title</th>\n",
       "      <th>tmdb_ratings</th>\n",
       "      <th>director_name</th>\n",
       "      <th>actor_1_name</th>\n",
       "      <th>actor_2_name</th>\n",
       "      <th>actor_3_name</th>\n",
       "      <th>genres</th>\n",
       "      <th>comb</th>\n",
       "    </tr>\n",
       "  </thead>\n",
       "  <tbody>\n",
       "    <tr>\n",
       "      <th>0</th>\n",
       "      <td>insidious: the last key</td>\n",
       "      <td>6.2</td>\n",
       "      <td>Adam Robitel</td>\n",
       "      <td>Lin Shaye</td>\n",
       "      <td>Angus Sampson</td>\n",
       "      <td>Leigh Whannell</td>\n",
       "      <td>Horror Mystery Thriller</td>\n",
       "      <td>Lin Shaye Angus Sampson Leigh Whannell Adam Ro...</td>\n",
       "    </tr>\n",
       "    <tr>\n",
       "      <th>1</th>\n",
       "      <td>the strange ones</td>\n",
       "      <td>5.5</td>\n",
       "      <td>Lauren Wolkstein</td>\n",
       "      <td>Alex Pettyfer</td>\n",
       "      <td>James Freedson-Jackson</td>\n",
       "      <td>Emily Althaus</td>\n",
       "      <td>Thriller Drama</td>\n",
       "      <td>Alex Pettyfer James Freedson-Jackson Emily Alt...</td>\n",
       "    </tr>\n",
       "    <tr>\n",
       "      <th>2</th>\n",
       "      <td>stratton</td>\n",
       "      <td>4.9</td>\n",
       "      <td>Simon West</td>\n",
       "      <td>Dominic Cooper</td>\n",
       "      <td>Austin Stowell</td>\n",
       "      <td>Gemma Chan</td>\n",
       "      <td>Action Thriller</td>\n",
       "      <td>Dominic Cooper Austin Stowell Gemma Chan Simon...</td>\n",
       "    </tr>\n",
       "    <tr>\n",
       "      <th>3</th>\n",
       "      <td>sweet country</td>\n",
       "      <td>6.7</td>\n",
       "      <td>Warwick Thornton</td>\n",
       "      <td>Bryan Brown</td>\n",
       "      <td>Sam Neill</td>\n",
       "      <td>unknown</td>\n",
       "      <td>Drama History Western</td>\n",
       "      <td>Bryan Brown Sam Neill unknown Warwick Thornton...</td>\n",
       "    </tr>\n",
       "    <tr>\n",
       "      <th>4</th>\n",
       "      <td>the commuter</td>\n",
       "      <td>6.3</td>\n",
       "      <td>Jaume Collet-Serra</td>\n",
       "      <td>Liam Neeson</td>\n",
       "      <td>Vera Farmiga</td>\n",
       "      <td>Patrick Wilson</td>\n",
       "      <td>Action Thriller</td>\n",
       "      <td>Liam Neeson Vera Farmiga Patrick Wilson Jaume ...</td>\n",
       "    </tr>\n",
       "  </tbody>\n",
       "</table>\n",
       "</div>"
      ],
      "text/plain": [
       "               movie_title  tmdb_ratings       director_name    actor_1_name  \\\n",
       "0  insidious: the last key           6.2        Adam Robitel       Lin Shaye   \n",
       "1         the strange ones           5.5    Lauren Wolkstein   Alex Pettyfer   \n",
       "2                 stratton           4.9          Simon West  Dominic Cooper   \n",
       "3            sweet country           6.7    Warwick Thornton     Bryan Brown   \n",
       "4             the commuter           6.3  Jaume Collet-Serra     Liam Neeson   \n",
       "\n",
       "             actor_2_name    actor_3_name                   genres  \\\n",
       "0           Angus Sampson  Leigh Whannell  Horror Mystery Thriller   \n",
       "1  James Freedson-Jackson   Emily Althaus           Thriller Drama   \n",
       "2          Austin Stowell      Gemma Chan          Action Thriller   \n",
       "3               Sam Neill         unknown    Drama History Western   \n",
       "4            Vera Farmiga  Patrick Wilson          Action Thriller   \n",
       "\n",
       "                                                comb  \n",
       "0  Lin Shaye Angus Sampson Leigh Whannell Adam Ro...  \n",
       "1  Alex Pettyfer James Freedson-Jackson Emily Alt...  \n",
       "2  Dominic Cooper Austin Stowell Gemma Chan Simon...  \n",
       "3  Bryan Brown Sam Neill unknown Warwick Thornton...  \n",
       "4  Liam Neeson Vera Farmiga Patrick Wilson Jaume ...  "
      ]
     },
     "execution_count": 15,
     "metadata": {},
     "output_type": "execute_result"
    }
   ],
   "source": [
    "df.head()"
   ]
  },
  {
   "cell_type": "code",
   "execution_count": null,
   "metadata": {
    "colab": {
     "base_uri": "https://localhost:8080/",
     "height": 102
    },
    "id": "nsai8mlIvYBS",
    "outputId": "dd7dc448-e682-4994-a615-850e3c2dc1ee"
   },
   "outputs": [],
   "source": []
  },
  {
   "cell_type": "code",
   "execution_count": null,
   "metadata": {},
   "outputs": [],
   "source": []
  },
  {
   "cell_type": "code",
   "execution_count": 16,
   "metadata": {
    "colab": {
     "base_uri": "https://localhost:8080/",
     "height": 225
    },
    "id": "6adAh6GdvYBS",
    "outputId": "fca41fc2-174c-4910-809d-d7594576375e"
   },
   "outputs": [
    {
     "data": {
      "text/html": [
       "<div>\n",
       "<style scoped>\n",
       "    .dataframe tbody tr th:only-of-type {\n",
       "        vertical-align: middle;\n",
       "    }\n",
       "\n",
       "    .dataframe tbody tr th {\n",
       "        vertical-align: top;\n",
       "    }\n",
       "\n",
       "    .dataframe thead th {\n",
       "        text-align: right;\n",
       "    }\n",
       "</style>\n",
       "<table border=\"1\" class=\"dataframe\">\n",
       "  <thead>\n",
       "    <tr style=\"text-align: right;\">\n",
       "      <th></th>\n",
       "      <th>tmdb_ratings</th>\n",
       "      <th>director_name</th>\n",
       "      <th>actor_1_name</th>\n",
       "      <th>actor_2_name</th>\n",
       "      <th>actor_3_name</th>\n",
       "      <th>genres</th>\n",
       "      <th>comb</th>\n",
       "    </tr>\n",
       "    <tr>\n",
       "      <th>movie_title</th>\n",
       "      <th></th>\n",
       "      <th></th>\n",
       "      <th></th>\n",
       "      <th></th>\n",
       "      <th></th>\n",
       "      <th></th>\n",
       "      <th></th>\n",
       "    </tr>\n",
       "  </thead>\n",
       "  <tbody>\n",
       "    <tr>\n",
       "      <th>insidious: the last key</th>\n",
       "      <td>6.2</td>\n",
       "      <td>Adam Robitel</td>\n",
       "      <td>Lin Shaye</td>\n",
       "      <td>Angus Sampson</td>\n",
       "      <td>Leigh Whannell</td>\n",
       "      <td>Horror Mystery Thriller</td>\n",
       "      <td>Lin Shaye Angus Sampson Leigh Whannell Adam Ro...</td>\n",
       "    </tr>\n",
       "    <tr>\n",
       "      <th>the strange ones</th>\n",
       "      <td>5.5</td>\n",
       "      <td>Lauren Wolkstein</td>\n",
       "      <td>Alex Pettyfer</td>\n",
       "      <td>James Freedson-Jackson</td>\n",
       "      <td>Emily Althaus</td>\n",
       "      <td>Thriller Drama</td>\n",
       "      <td>Alex Pettyfer James Freedson-Jackson Emily Alt...</td>\n",
       "    </tr>\n",
       "    <tr>\n",
       "      <th>stratton</th>\n",
       "      <td>4.9</td>\n",
       "      <td>Simon West</td>\n",
       "      <td>Dominic Cooper</td>\n",
       "      <td>Austin Stowell</td>\n",
       "      <td>Gemma Chan</td>\n",
       "      <td>Action Thriller</td>\n",
       "      <td>Dominic Cooper Austin Stowell Gemma Chan Simon...</td>\n",
       "    </tr>\n",
       "    <tr>\n",
       "      <th>sweet country</th>\n",
       "      <td>6.7</td>\n",
       "      <td>Warwick Thornton</td>\n",
       "      <td>Bryan Brown</td>\n",
       "      <td>Sam Neill</td>\n",
       "      <td>unknown</td>\n",
       "      <td>Drama History Western</td>\n",
       "      <td>Bryan Brown Sam Neill unknown Warwick Thornton...</td>\n",
       "    </tr>\n",
       "    <tr>\n",
       "      <th>the commuter</th>\n",
       "      <td>6.3</td>\n",
       "      <td>Jaume Collet-Serra</td>\n",
       "      <td>Liam Neeson</td>\n",
       "      <td>Vera Farmiga</td>\n",
       "      <td>Patrick Wilson</td>\n",
       "      <td>Action Thriller</td>\n",
       "      <td>Liam Neeson Vera Farmiga Patrick Wilson Jaume ...</td>\n",
       "    </tr>\n",
       "  </tbody>\n",
       "</table>\n",
       "</div>"
      ],
      "text/plain": [
       "                         tmdb_ratings       director_name    actor_1_name  \\\n",
       "movie_title                                                                 \n",
       "insidious: the last key           6.2        Adam Robitel       Lin Shaye   \n",
       "the strange ones                  5.5    Lauren Wolkstein   Alex Pettyfer   \n",
       "stratton                          4.9          Simon West  Dominic Cooper   \n",
       "sweet country                     6.7    Warwick Thornton     Bryan Brown   \n",
       "the commuter                      6.3  Jaume Collet-Serra     Liam Neeson   \n",
       "\n",
       "                                   actor_2_name    actor_3_name  \\\n",
       "movie_title                                                       \n",
       "insidious: the last key           Angus Sampson  Leigh Whannell   \n",
       "the strange ones         James Freedson-Jackson   Emily Althaus   \n",
       "stratton                         Austin Stowell      Gemma Chan   \n",
       "sweet country                         Sam Neill         unknown   \n",
       "the commuter                       Vera Farmiga  Patrick Wilson   \n",
       "\n",
       "                                          genres  \\\n",
       "movie_title                                        \n",
       "insidious: the last key  Horror Mystery Thriller   \n",
       "the strange ones                  Thriller Drama   \n",
       "stratton                         Action Thriller   \n",
       "sweet country              Drama History Western   \n",
       "the commuter                     Action Thriller   \n",
       "\n",
       "                                                                      comb  \n",
       "movie_title                                                                 \n",
       "insidious: the last key  Lin Shaye Angus Sampson Leigh Whannell Adam Ro...  \n",
       "the strange ones         Alex Pettyfer James Freedson-Jackson Emily Alt...  \n",
       "stratton                 Dominic Cooper Austin Stowell Gemma Chan Simon...  \n",
       "sweet country            Bryan Brown Sam Neill unknown Warwick Thornton...  \n",
       "the commuter             Liam Neeson Vera Farmiga Patrick Wilson Jaume ...  "
      ]
     },
     "execution_count": 16,
     "metadata": {},
     "output_type": "execute_result"
    }
   ],
   "source": [
    "df.set_index('movie_title', inplace = True)\n",
    "\n",
    "df.head()"
   ]
  },
  {
   "cell_type": "code",
   "execution_count": null,
   "metadata": {},
   "outputs": [],
   "source": []
  },
  {
   "cell_type": "code",
   "execution_count": null,
   "metadata": {},
   "outputs": [],
   "source": []
  },
  {
   "cell_type": "code",
   "execution_count": 17,
   "metadata": {},
   "outputs": [
    {
     "data": {
      "text/html": [
       "<div>\n",
       "<style scoped>\n",
       "    .dataframe tbody tr th:only-of-type {\n",
       "        vertical-align: middle;\n",
       "    }\n",
       "\n",
       "    .dataframe tbody tr th {\n",
       "        vertical-align: top;\n",
       "    }\n",
       "\n",
       "    .dataframe thead th {\n",
       "        text-align: right;\n",
       "    }\n",
       "</style>\n",
       "<table border=\"1\" class=\"dataframe\">\n",
       "  <thead>\n",
       "    <tr style=\"text-align: right;\">\n",
       "      <th></th>\n",
       "      <th>tmdb_ratings</th>\n",
       "      <th>director_name</th>\n",
       "      <th>actor_1_name</th>\n",
       "      <th>actor_2_name</th>\n",
       "      <th>actor_3_name</th>\n",
       "      <th>genres</th>\n",
       "      <th>comb</th>\n",
       "    </tr>\n",
       "    <tr>\n",
       "      <th>movie_title</th>\n",
       "      <th></th>\n",
       "      <th></th>\n",
       "      <th></th>\n",
       "      <th></th>\n",
       "      <th></th>\n",
       "      <th></th>\n",
       "      <th></th>\n",
       "    </tr>\n",
       "  </thead>\n",
       "  <tbody>\n",
       "    <tr>\n",
       "      <th>insidious: the last key</th>\n",
       "      <td>6.2</td>\n",
       "      <td>Adam Robitel</td>\n",
       "      <td>Lin Shaye</td>\n",
       "      <td>Angus Sampson</td>\n",
       "      <td>Leigh Whannell</td>\n",
       "      <td>Horror Mystery Thriller</td>\n",
       "      <td>Lin Shaye Angus Sampson Leigh Whannell Adam Ro...</td>\n",
       "    </tr>\n",
       "    <tr>\n",
       "      <th>the strange ones</th>\n",
       "      <td>5.5</td>\n",
       "      <td>Lauren Wolkstein</td>\n",
       "      <td>Alex Pettyfer</td>\n",
       "      <td>James Freedson-Jackson</td>\n",
       "      <td>Emily Althaus</td>\n",
       "      <td>Thriller Drama</td>\n",
       "      <td>Alex Pettyfer James Freedson-Jackson Emily Alt...</td>\n",
       "    </tr>\n",
       "    <tr>\n",
       "      <th>stratton</th>\n",
       "      <td>4.9</td>\n",
       "      <td>Simon West</td>\n",
       "      <td>Dominic Cooper</td>\n",
       "      <td>Austin Stowell</td>\n",
       "      <td>Gemma Chan</td>\n",
       "      <td>Action Thriller</td>\n",
       "      <td>Dominic Cooper Austin Stowell Gemma Chan Simon...</td>\n",
       "    </tr>\n",
       "    <tr>\n",
       "      <th>sweet country</th>\n",
       "      <td>6.7</td>\n",
       "      <td>Warwick Thornton</td>\n",
       "      <td>Bryan Brown</td>\n",
       "      <td>Sam Neill</td>\n",
       "      <td>unknown</td>\n",
       "      <td>Drama History Western</td>\n",
       "      <td>Bryan Brown Sam Neill unknown Warwick Thornton...</td>\n",
       "    </tr>\n",
       "    <tr>\n",
       "      <th>the commuter</th>\n",
       "      <td>6.3</td>\n",
       "      <td>Jaume Collet-Serra</td>\n",
       "      <td>Liam Neeson</td>\n",
       "      <td>Vera Farmiga</td>\n",
       "      <td>Patrick Wilson</td>\n",
       "      <td>Action Thriller</td>\n",
       "      <td>Liam Neeson Vera Farmiga Patrick Wilson Jaume ...</td>\n",
       "    </tr>\n",
       "    <tr>\n",
       "      <th>...</th>\n",
       "      <td>...</td>\n",
       "      <td>...</td>\n",
       "      <td>...</td>\n",
       "      <td>...</td>\n",
       "      <td>...</td>\n",
       "      <td>...</td>\n",
       "      <td>...</td>\n",
       "    </tr>\n",
       "    <tr>\n",
       "      <th>news of the world</th>\n",
       "      <td>NaN</td>\n",
       "      <td>Paul Greengrass</td>\n",
       "      <td>Tom Hanks</td>\n",
       "      <td>Helena Zengel</td>\n",
       "      <td>unknown</td>\n",
       "      <td>Drama Western</td>\n",
       "      <td>Tom Hanks Helena Zengel unknown Paul Greengras...</td>\n",
       "    </tr>\n",
       "    <tr>\n",
       "      <th>one night in miami</th>\n",
       "      <td>NaN</td>\n",
       "      <td>Regina King</td>\n",
       "      <td>Kingsley Ben-Adir</td>\n",
       "      <td>Eli Goree</td>\n",
       "      <td>Aldis Hodge</td>\n",
       "      <td>Drama</td>\n",
       "      <td>Kingsley Ben-Adir Eli Goree Aldis Hodge Regina...</td>\n",
       "    </tr>\n",
       "    <tr>\n",
       "      <th>promising young woman</th>\n",
       "      <td>5.8</td>\n",
       "      <td>Emerald Fennell</td>\n",
       "      <td>Carey Mulligan</td>\n",
       "      <td>Bo Burnham</td>\n",
       "      <td>Alison Brie</td>\n",
       "      <td>Thriller Crime Drama</td>\n",
       "      <td>Carey Mulligan Bo Burnham Alison Brie Emerald ...</td>\n",
       "    </tr>\n",
       "    <tr>\n",
       "      <th>sylvie's love</th>\n",
       "      <td>7.0</td>\n",
       "      <td>Eugene Ashe</td>\n",
       "      <td>Tessa Thompson</td>\n",
       "      <td>Nnamdi Asomugha</td>\n",
       "      <td>Ryan Michelle Bathe</td>\n",
       "      <td>Drama</td>\n",
       "      <td>Tessa Thompson Nnamdi Asomugha Ryan Michelle B...</td>\n",
       "    </tr>\n",
       "    <tr>\n",
       "      <th>pieces of a woman</th>\n",
       "      <td>NaN</td>\n",
       "      <td>Kornél Mundruczó</td>\n",
       "      <td>Vanessa Kirby</td>\n",
       "      <td>Shia LaBeouf</td>\n",
       "      <td>Molly Parker</td>\n",
       "      <td>Drama</td>\n",
       "      <td>Vanessa Kirby Shia LaBeouf Molly Parker Kornél...</td>\n",
       "    </tr>\n",
       "  </tbody>\n",
       "</table>\n",
       "<p>6095 rows × 7 columns</p>\n",
       "</div>"
      ],
      "text/plain": [
       "                         tmdb_ratings       director_name       actor_1_name  \\\n",
       "movie_title                                                                    \n",
       "insidious: the last key           6.2        Adam Robitel          Lin Shaye   \n",
       "the strange ones                  5.5    Lauren Wolkstein      Alex Pettyfer   \n",
       "stratton                          4.9          Simon West     Dominic Cooper   \n",
       "sweet country                     6.7    Warwick Thornton        Bryan Brown   \n",
       "the commuter                      6.3  Jaume Collet-Serra        Liam Neeson   \n",
       "...                               ...                 ...                ...   \n",
       "news of the world                 NaN     Paul Greengrass          Tom Hanks   \n",
       "one night in miami                NaN         Regina King  Kingsley Ben-Adir   \n",
       "promising young woman             5.8     Emerald Fennell     Carey Mulligan   \n",
       "sylvie's love                     7.0         Eugene Ashe     Tessa Thompson   \n",
       "pieces of a woman                 NaN    Kornél Mundruczó      Vanessa Kirby   \n",
       "\n",
       "                                   actor_2_name         actor_3_name  \\\n",
       "movie_title                                                            \n",
       "insidious: the last key           Angus Sampson       Leigh Whannell   \n",
       "the strange ones         James Freedson-Jackson        Emily Althaus   \n",
       "stratton                         Austin Stowell           Gemma Chan   \n",
       "sweet country                         Sam Neill              unknown   \n",
       "the commuter                       Vera Farmiga       Patrick Wilson   \n",
       "...                                         ...                  ...   \n",
       "news of the world                 Helena Zengel              unknown   \n",
       "one night in miami                    Eli Goree          Aldis Hodge   \n",
       "promising young woman                Bo Burnham          Alison Brie   \n",
       "sylvie's love                   Nnamdi Asomugha  Ryan Michelle Bathe   \n",
       "pieces of a woman                  Shia LaBeouf         Molly Parker   \n",
       "\n",
       "                                          genres  \\\n",
       "movie_title                                        \n",
       "insidious: the last key  Horror Mystery Thriller   \n",
       "the strange ones                  Thriller Drama   \n",
       "stratton                         Action Thriller   \n",
       "sweet country              Drama History Western   \n",
       "the commuter                     Action Thriller   \n",
       "...                                          ...   \n",
       "news of the world                  Drama Western   \n",
       "one night in miami                         Drama   \n",
       "promising young woman       Thriller Crime Drama   \n",
       "sylvie's love                              Drama   \n",
       "pieces of a woman                          Drama   \n",
       "\n",
       "                                                                      comb  \n",
       "movie_title                                                                 \n",
       "insidious: the last key  Lin Shaye Angus Sampson Leigh Whannell Adam Ro...  \n",
       "the strange ones         Alex Pettyfer James Freedson-Jackson Emily Alt...  \n",
       "stratton                 Dominic Cooper Austin Stowell Gemma Chan Simon...  \n",
       "sweet country            Bryan Brown Sam Neill unknown Warwick Thornton...  \n",
       "the commuter             Liam Neeson Vera Farmiga Patrick Wilson Jaume ...  \n",
       "...                                                                    ...  \n",
       "news of the world        Tom Hanks Helena Zengel unknown Paul Greengras...  \n",
       "one night in miami       Kingsley Ben-Adir Eli Goree Aldis Hodge Regina...  \n",
       "promising young woman    Carey Mulligan Bo Burnham Alison Brie Emerald ...  \n",
       "sylvie's love            Tessa Thompson Nnamdi Asomugha Ryan Michelle B...  \n",
       "pieces of a woman        Vanessa Kirby Shia LaBeouf Molly Parker Kornél...  \n",
       "\n",
       "[6095 rows x 7 columns]"
      ]
     },
     "execution_count": 17,
     "metadata": {},
     "output_type": "execute_result"
    }
   ],
   "source": [
    "df"
   ]
  },
  {
   "cell_type": "code",
   "execution_count": null,
   "metadata": {
    "id": "Soo1_zsPvYBS"
   },
   "outputs": [],
   "source": []
  },
  {
   "cell_type": "code",
   "execution_count": 18,
   "metadata": {
    "colab": {
     "base_uri": "https://localhost:8080/",
     "height": 225
    },
    "id": "518R0ztAvYBS",
    "outputId": "ba8cbf01-cf7e-4f73-a3cd-2a29b519ecfe"
   },
   "outputs": [
    {
     "data": {
      "text/html": [
       "<div>\n",
       "<style scoped>\n",
       "    .dataframe tbody tr th:only-of-type {\n",
       "        vertical-align: middle;\n",
       "    }\n",
       "\n",
       "    .dataframe tbody tr th {\n",
       "        vertical-align: top;\n",
       "    }\n",
       "\n",
       "    .dataframe thead th {\n",
       "        text-align: right;\n",
       "    }\n",
       "</style>\n",
       "<table border=\"1\" class=\"dataframe\">\n",
       "  <thead>\n",
       "    <tr style=\"text-align: right;\">\n",
       "      <th></th>\n",
       "      <th>tmdb_ratings</th>\n",
       "      <th>director_name</th>\n",
       "      <th>actor_1_name</th>\n",
       "      <th>actor_2_name</th>\n",
       "      <th>actor_3_name</th>\n",
       "      <th>genres</th>\n",
       "      <th>comb</th>\n",
       "    </tr>\n",
       "    <tr>\n",
       "      <th>movie_title</th>\n",
       "      <th></th>\n",
       "      <th></th>\n",
       "      <th></th>\n",
       "      <th></th>\n",
       "      <th></th>\n",
       "      <th></th>\n",
       "      <th></th>\n",
       "    </tr>\n",
       "  </thead>\n",
       "  <tbody>\n",
       "    <tr>\n",
       "      <th>insidious: the last key</th>\n",
       "      <td>6.2</td>\n",
       "      <td>Adam Robitel</td>\n",
       "      <td>Lin Shaye</td>\n",
       "      <td>Angus Sampson</td>\n",
       "      <td>Leigh Whannell</td>\n",
       "      <td>Horror Mystery Thriller</td>\n",
       "      <td>Lin Shaye Angus Sampson Leigh Whannell Adam Ro...</td>\n",
       "    </tr>\n",
       "    <tr>\n",
       "      <th>the strange ones</th>\n",
       "      <td>5.5</td>\n",
       "      <td>Lauren Wolkstein</td>\n",
       "      <td>Alex Pettyfer</td>\n",
       "      <td>James Freedson-Jackson</td>\n",
       "      <td>Emily Althaus</td>\n",
       "      <td>Thriller Drama</td>\n",
       "      <td>Alex Pettyfer James Freedson-Jackson Emily Alt...</td>\n",
       "    </tr>\n",
       "    <tr>\n",
       "      <th>stratton</th>\n",
       "      <td>4.9</td>\n",
       "      <td>Simon West</td>\n",
       "      <td>Dominic Cooper</td>\n",
       "      <td>Austin Stowell</td>\n",
       "      <td>Gemma Chan</td>\n",
       "      <td>Action Thriller</td>\n",
       "      <td>Dominic Cooper Austin Stowell Gemma Chan Simon...</td>\n",
       "    </tr>\n",
       "    <tr>\n",
       "      <th>sweet country</th>\n",
       "      <td>6.7</td>\n",
       "      <td>Warwick Thornton</td>\n",
       "      <td>Bryan Brown</td>\n",
       "      <td>Sam Neill</td>\n",
       "      <td>unknown</td>\n",
       "      <td>Drama History Western</td>\n",
       "      <td>Bryan Brown Sam Neill unknown Warwick Thornton...</td>\n",
       "    </tr>\n",
       "    <tr>\n",
       "      <th>the commuter</th>\n",
       "      <td>6.3</td>\n",
       "      <td>Jaume Collet-Serra</td>\n",
       "      <td>Liam Neeson</td>\n",
       "      <td>Vera Farmiga</td>\n",
       "      <td>Patrick Wilson</td>\n",
       "      <td>Action Thriller</td>\n",
       "      <td>Liam Neeson Vera Farmiga Patrick Wilson Jaume ...</td>\n",
       "    </tr>\n",
       "  </tbody>\n",
       "</table>\n",
       "</div>"
      ],
      "text/plain": [
       "                         tmdb_ratings       director_name    actor_1_name  \\\n",
       "movie_title                                                                 \n",
       "insidious: the last key           6.2        Adam Robitel       Lin Shaye   \n",
       "the strange ones                  5.5    Lauren Wolkstein   Alex Pettyfer   \n",
       "stratton                          4.9          Simon West  Dominic Cooper   \n",
       "sweet country                     6.7    Warwick Thornton     Bryan Brown   \n",
       "the commuter                      6.3  Jaume Collet-Serra     Liam Neeson   \n",
       "\n",
       "                                   actor_2_name    actor_3_name  \\\n",
       "movie_title                                                       \n",
       "insidious: the last key           Angus Sampson  Leigh Whannell   \n",
       "the strange ones         James Freedson-Jackson   Emily Althaus   \n",
       "stratton                         Austin Stowell      Gemma Chan   \n",
       "sweet country                         Sam Neill         unknown   \n",
       "the commuter                       Vera Farmiga  Patrick Wilson   \n",
       "\n",
       "                                          genres  \\\n",
       "movie_title                                        \n",
       "insidious: the last key  Horror Mystery Thriller   \n",
       "the strange ones                  Thriller Drama   \n",
       "stratton                         Action Thriller   \n",
       "sweet country              Drama History Western   \n",
       "the commuter                     Action Thriller   \n",
       "\n",
       "                                                                      comb  \n",
       "movie_title                                                                 \n",
       "insidious: the last key  Lin Shaye Angus Sampson Leigh Whannell Adam Ro...  \n",
       "the strange ones         Alex Pettyfer James Freedson-Jackson Emily Alt...  \n",
       "stratton                 Dominic Cooper Austin Stowell Gemma Chan Simon...  \n",
       "sweet country            Bryan Brown Sam Neill unknown Warwick Thornton...  \n",
       "the commuter             Liam Neeson Vera Farmiga Patrick Wilson Jaume ...  "
      ]
     },
     "execution_count": 18,
     "metadata": {},
     "output_type": "execute_result"
    }
   ],
   "source": [
    "df.head()"
   ]
  },
  {
   "cell_type": "code",
   "execution_count": null,
   "metadata": {
    "colab": {
     "base_uri": "https://localhost:8080/",
     "height": 35
    },
    "id": "-XV4Qwqd77N4",
    "outputId": "db21e376-c4ee-4581-d3cb-90364f3ce5e3"
   },
   "outputs": [],
   "source": []
  },
  {
   "cell_type": "code",
   "execution_count": null,
   "metadata": {},
   "outputs": [],
   "source": []
  },
  {
   "cell_type": "code",
   "execution_count": 19,
   "metadata": {
    "colab": {
     "base_uri": "https://localhost:8080/"
    },
    "id": "TOZRnzmwvYBT",
    "outputId": "d3fcf730-9253-438e-b5d2-6e4b89421ebb"
   },
   "outputs": [
    {
     "data": {
      "text/plain": [
       "0    insidious: the last key\n",
       "1           the strange ones\n",
       "2                   stratton\n",
       "3              sweet country\n",
       "4               the commuter\n",
       "Name: movie_title, dtype: object"
      ]
     },
     "execution_count": 19,
     "metadata": {},
     "output_type": "execute_result"
    }
   ],
   "source": [
    "# instantiating and generating the count matrix\n",
    "count = CountVectorizer()\n",
    "count_matrix = count.fit_transform(df['comb'])\n",
    "\n",
    "# creating a Series for the movie titles so they are associated to an ordered numerical\n",
    "# list I will use later to match the indexes\n",
    "indices = pd.Series(df.index)\n",
    "indices.head()"
   ]
  },
  {
   "cell_type": "code",
   "execution_count": null,
   "metadata": {},
   "outputs": [],
   "source": []
  },
  {
   "cell_type": "code",
   "execution_count": 20,
   "metadata": {
    "colab": {
     "base_uri": "https://localhost:8080/"
    },
    "id": "0wFTM5UEvYBT",
    "outputId": "60ef6509-78af-4287-f731-b53e0ab77f69"
   },
   "outputs": [
    {
     "data": {
      "text/plain": [
       "array([[1.        , 0.09090909, 0.09534626, ..., 0.09090909, 0.        ,\n",
       "        0.        ],\n",
       "       [0.09090909, 1.        , 0.09534626, ..., 0.18181818, 0.09534626,\n",
       "        0.10050378],\n",
       "       [0.09534626, 0.09534626, 1.        , ..., 0.09534626, 0.        ,\n",
       "        0.        ],\n",
       "       ...,\n",
       "       [0.09090909, 0.18181818, 0.09534626, ..., 1.        , 0.09534626,\n",
       "        0.10050378],\n",
       "       [0.        , 0.09534626, 0.        , ..., 0.09534626, 1.        ,\n",
       "        0.10540926],\n",
       "       [0.        , 0.10050378, 0.        , ..., 0.10050378, 0.10540926,\n",
       "        1.        ]])"
      ]
     },
     "execution_count": 20,
     "metadata": {},
     "output_type": "execute_result"
    }
   ],
   "source": [
    "# generating the cosine similarity matrix\n",
    "cosine_sim = cosine_similarity(count_matrix)\n",
    "cosine_sim"
   ]
  },
  {
   "cell_type": "code",
   "execution_count": 21,
   "metadata": {
    "id": "NiDl5e6evYBT"
   },
   "outputs": [],
   "source": [
    "# function that takes in movie_title as input and returns the top 10 recommended movies\n",
    "\n",
    "def recommendations(title):\n",
    "    \n",
    "    recommended_movies = []\n",
    "    ratings = []\n",
    "    # gettin the index of the movie that matches the title\n",
    "    idx = indices[indices == title].index[0]\n",
    "\n",
    "    # creating a Series with the similarity scores in descending order\n",
    "    score_series = pd.Series(cosine_sim[idx]).sort_values(ascending = False)\n",
    "\n",
    "    # getting the indexes of the 10 most similar movies\n",
    "    top_10_indexes = list(score_series.iloc[1:11].index)\n",
    "    \n",
    "    # populating the list with the titles of the best 10 matching movies\n",
    "    for i in top_10_indexes:\n",
    "        recommended_movies.append(list(df.index)[i])\n",
    "        ratings.append(list(df['tmdb_ratings'])[i-1])\n",
    "    return recommended_movies,ratings"
   ]
  },
  {
   "cell_type": "code",
   "execution_count": 29,
   "metadata": {
    "colab": {
     "base_uri": "https://localhost:8080/"
    },
    "id": "cMaW_umTvYBT",
    "outputId": "a6e0e770-22c5-48e8-f1a7-572550153c4a"
   },
   "outputs": [
    {
     "data": {
      "text/plain": [
       "(['aliens',\n",
       "  'mystery men',\n",
       "  'deep rising',\n",
       "  'dragonball: evolution',\n",
       "  'the terminator',\n",
       "  'terminator 2: judgment day',\n",
       "  'blade: trinity',\n",
       "  'tron: legacy',\n",
       "  'dune',\n",
       "  'guardians of the galaxy'],\n",
       " [7.6, 6.9, 6.8, 5.3, 7.6, 7.1, 6.1, 6.4, 5.7, 6.1])"
      ]
     },
     "execution_count": 29,
     "metadata": {},
     "output_type": "execute_result"
    }
   ],
   "source": [
    "recommendations('avatar') "
   ]
  },
  {
   "cell_type": "code",
   "execution_count": 32,
   "metadata": {},
   "outputs": [],
   "source": [
    " \n",
    "x = pd.DataFrame()\n",
    "x[' Recommended movies'] = recommendations('the nun')[0]\n",
    "x['ratings'] = recommendations('the nun')[1]"
   ]
  },
  {
   "cell_type": "code",
   "execution_count": 33,
   "metadata": {},
   "outputs": [
    {
     "data": {
      "text/html": [
       "<div>\n",
       "<style scoped>\n",
       "    .dataframe tbody tr th:only-of-type {\n",
       "        vertical-align: middle;\n",
       "    }\n",
       "\n",
       "    .dataframe tbody tr th {\n",
       "        vertical-align: top;\n",
       "    }\n",
       "\n",
       "    .dataframe thead th {\n",
       "        text-align: right;\n",
       "    }\n",
       "</style>\n",
       "<table border=\"1\" class=\"dataframe\">\n",
       "  <thead>\n",
       "    <tr style=\"text-align: right;\">\n",
       "      <th></th>\n",
       "      <th>Recommended movies</th>\n",
       "      <th>ratings</th>\n",
       "    </tr>\n",
       "  </thead>\n",
       "  <tbody>\n",
       "    <tr>\n",
       "      <th>0</th>\n",
       "      <td>the grudge</td>\n",
       "      <td>4.3</td>\n",
       "    </tr>\n",
       "    <tr>\n",
       "      <th>1</th>\n",
       "      <td>run</td>\n",
       "      <td>6.4</td>\n",
       "    </tr>\n",
       "    <tr>\n",
       "      <th>2</th>\n",
       "      <td>prey</td>\n",
       "      <td>6.8</td>\n",
       "    </tr>\n",
       "    <tr>\n",
       "      <th>3</th>\n",
       "      <td>annabelle comes home</td>\n",
       "      <td>6.6</td>\n",
       "    </tr>\n",
       "    <tr>\n",
       "      <th>4</th>\n",
       "      <td>the skeleton key</td>\n",
       "      <td>6.8</td>\n",
       "    </tr>\n",
       "    <tr>\n",
       "      <th>5</th>\n",
       "      <td>polaroid</td>\n",
       "      <td>6.4</td>\n",
       "    </tr>\n",
       "    <tr>\n",
       "      <th>6</th>\n",
       "      <td>an american haunting</td>\n",
       "      <td>4.6</td>\n",
       "    </tr>\n",
       "    <tr>\n",
       "      <th>7</th>\n",
       "      <td>urban legend</td>\n",
       "      <td>6.8</td>\n",
       "    </tr>\n",
       "    <tr>\n",
       "      <th>8</th>\n",
       "      <td>case 39</td>\n",
       "      <td>6.1</td>\n",
       "    </tr>\n",
       "    <tr>\n",
       "      <th>9</th>\n",
       "      <td>savages</td>\n",
       "      <td>6.3</td>\n",
       "    </tr>\n",
       "  </tbody>\n",
       "</table>\n",
       "</div>"
      ],
      "text/plain": [
       "     Recommended movies  ratings\n",
       "0            the grudge      4.3\n",
       "1                   run      6.4\n",
       "2                  prey      6.8\n",
       "3  annabelle comes home      6.6\n",
       "4      the skeleton key      6.8\n",
       "5              polaroid      6.4\n",
       "6  an american haunting      4.6\n",
       "7          urban legend      6.8\n",
       "8               case 39      6.1\n",
       "9               savages      6.3"
      ]
     },
     "execution_count": 33,
     "metadata": {},
     "output_type": "execute_result"
    }
   ],
   "source": [
    "x"
   ]
  },
  {
   "cell_type": "code",
   "execution_count": 25,
   "metadata": {},
   "outputs": [],
   "source": [
    " rcmd_movies = pd.DataFrame()"
   ]
  },
  {
   "cell_type": "code",
   "execution_count": null,
   "metadata": {},
   "outputs": [],
   "source": []
  },
  {
   "cell_type": "code",
   "execution_count": 26,
   "metadata": {
    "id": "RVQI-_VHJ1rO"
   },
   "outputs": [],
   "source": [
    "# function that takes in genres values as input and returns the top 10 recommended movies\n",
    "\n",
    "def recomd(title):\n",
    "    \n",
    "    recommended_movies = []\n",
    "    ratings = []\n",
    "    title=title.lower()\n",
    "    df1=np.array(df['comb'])\n",
    "    df1=np.append(title,df1)\n",
    "    \n",
    "    idx = 0\n",
    "    count1 = CountVectorizer()\n",
    "    count_matrix = count.fit_transform(df1)\n",
    "    c2=cosine_similarity(count_matrix)\n",
    "    \n",
    "    score_series = pd.Series(c2[0]).sort_values(ascending = False)\n",
    "\n",
    "    # getting the indexes of the 10 most similar movies\n",
    "    top_10_indexes = list(score_series.iloc[1:11].index)\n",
    "    \n",
    "    # populating the list with the titles of the best 10 matching movies\n",
    "    for i in top_10_indexes:\n",
    "        recommended_movies.append(list(df.index)[i-1])\n",
    "        ratings.append(list(df['tmdb_ratings'])[i-1])\n",
    "    \n",
    "        \n",
    "    return recommended_movies,ratings"
   ]
  },
  {
   "cell_type": "code",
   "execution_count": 27,
   "metadata": {
    "colab": {
     "base_uri": "https://localhost:8080/"
    },
    "id": "KJjARwrPS-YG",
    "outputId": "2bbc578f-98ac-4515-fdb0-88f03aa9289f"
   },
   "outputs": [],
   "source": [
    "x = pd.DataFrame()\n",
    "x['movie']=recomd('drama')[0]\n",
    "x['ratings']=recomd('drama')[1]"
   ]
  },
  {
   "cell_type": "code",
   "execution_count": 28,
   "metadata": {
    "id": "oeesLKLtUKFi"
   },
   "outputs": [
    {
     "data": {
      "text/html": [
       "<div>\n",
       "<style scoped>\n",
       "    .dataframe tbody tr th:only-of-type {\n",
       "        vertical-align: middle;\n",
       "    }\n",
       "\n",
       "    .dataframe tbody tr th {\n",
       "        vertical-align: top;\n",
       "    }\n",
       "\n",
       "    .dataframe thead th {\n",
       "        text-align: right;\n",
       "    }\n",
       "</style>\n",
       "<table border=\"1\" class=\"dataframe\">\n",
       "  <thead>\n",
       "    <tr style=\"text-align: right;\">\n",
       "      <th></th>\n",
       "      <th>movie</th>\n",
       "      <th>ratings</th>\n",
       "    </tr>\n",
       "  </thead>\n",
       "  <tbody>\n",
       "    <tr>\n",
       "      <th>0</th>\n",
       "      <td>the assistant</td>\n",
       "      <td>6.6</td>\n",
       "    </tr>\n",
       "    <tr>\n",
       "      <th>1</th>\n",
       "      <td>wendy and lucy</td>\n",
       "      <td>6.7</td>\n",
       "    </tr>\n",
       "    <tr>\n",
       "      <th>2</th>\n",
       "      <td>labor day</td>\n",
       "      <td>6.9</td>\n",
       "    </tr>\n",
       "    <tr>\n",
       "      <th>3</th>\n",
       "      <td>an american in hollywood</td>\n",
       "      <td>NaN</td>\n",
       "    </tr>\n",
       "    <tr>\n",
       "      <th>4</th>\n",
       "      <td>derailed</td>\n",
       "      <td>6.3</td>\n",
       "    </tr>\n",
       "    <tr>\n",
       "      <th>5</th>\n",
       "      <td>the namesake</td>\n",
       "      <td>6.7</td>\n",
       "    </tr>\n",
       "    <tr>\n",
       "      <th>6</th>\n",
       "      <td>blue car</td>\n",
       "      <td>6.3</td>\n",
       "    </tr>\n",
       "    <tr>\n",
       "      <th>7</th>\n",
       "      <td>kavan</td>\n",
       "      <td>7.1</td>\n",
       "    </tr>\n",
       "    <tr>\n",
       "      <th>8</th>\n",
       "      <td>soundtrack</td>\n",
       "      <td>6.5</td>\n",
       "    </tr>\n",
       "    <tr>\n",
       "      <th>9</th>\n",
       "      <td>old joy</td>\n",
       "      <td>6.5</td>\n",
       "    </tr>\n",
       "  </tbody>\n",
       "</table>\n",
       "</div>"
      ],
      "text/plain": [
       "                      movie  ratings\n",
       "0             the assistant      6.6\n",
       "1            wendy and lucy      6.7\n",
       "2                 labor day      6.9\n",
       "3  an american in hollywood      NaN\n",
       "4                  derailed      6.3\n",
       "5              the namesake      6.7\n",
       "6                  blue car      6.3\n",
       "7                     kavan      7.1\n",
       "8                soundtrack      6.5\n",
       "9                   old joy      6.5"
      ]
     },
     "execution_count": 28,
     "metadata": {},
     "output_type": "execute_result"
    }
   ],
   "source": [
    "x"
   ]
  }
 ],
 "metadata": {
  "colab": {
   "name": "EG_project5.ipynb",
   "provenance": [],
   "toc_visible": true
  },
  "kernelspec": {
   "display_name": "movie-recomd",
   "language": "python",
   "name": "movie-recomd"
  },
  "language_info": {
   "codemirror_mode": {
    "name": "ipython",
    "version": 3
   },
   "file_extension": ".py",
   "mimetype": "text/x-python",
   "name": "python",
   "nbconvert_exporter": "python",
   "pygments_lexer": "ipython3",
   "version": "3.7.9"
  }
 },
 "nbformat": 4,
 "nbformat_minor": 1
}
